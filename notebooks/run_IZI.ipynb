{
 "cells": [
  {
   "cell_type": "markdown",
   "metadata": {},
   "source": [
    "# Run IZI <a class=\"tocSkip\">"
   ]
  },
  {
   "cell_type": "code",
   "execution_count": 1,
   "metadata": {},
   "outputs": [],
   "source": [
    "# reload modules after they have been modified\n",
    "%load_ext autoreload\n",
    "%autoreload 2\n",
    "\n",
    "from pnlf.packages import *\n",
    "\n",
    "from pnlf.constants import tab10, single_column, two_column\n",
    "from pnlf.plot import quick_plot, add_scale\n",
    "\n",
    "%matplotlib inline\n",
    "%config InlineBackend.figure_format = 'retina'"
   ]
  },
  {
   "cell_type": "code",
   "execution_count": 2,
   "metadata": {},
   "outputs": [],
   "source": [
    "logging.basicConfig(stream=sys.stdout,datefmt='%H:%M:%S',level=logging.INFO)\n",
    "logger = logging.getLogger(__name__)\n",
    "\n",
    "basedir = Path('..')  # where we save stuff (and )\n",
    "data_ext = Path('a:') # raw data\n",
    "\n",
    "# we use the sample table for basic galaxy properties\n",
    "sample_table = ascii.read(basedir/'..'/'pnlf'/'data'/'interim'/'sample.txt')\n",
    "sample_table.add_index('Name')\n",
    "sample_table['SkyCoord'] = SkyCoord(sample_table['R.A.'],sample_table['Dec.'])"
   ]
  },
  {
   "cell_type": "markdown",
   "metadata": {},
   "source": [
    "## Read in data\n",
    "\n",
    "the galaxies listed in `hst_sample` have a cluster catalogue. The galaxies listed in `muse_sample` have astrosat observations to measure the FUV.\n",
    "\n",
    "### MUSE (DAP + nebulae catalogues)"
   ]
  },
  {
   "cell_type": "code",
   "execution_count": 3,
   "metadata": {},
   "outputs": [
    {
     "name": "stdout",
     "output_type": "stream",
     "text": [
      "NGC1672: 1040 HII-regions in final catalogue\n"
     ]
    },
    {
     "name": "stderr",
     "output_type": "stream",
     "text": [
      "C:\\Users\\fabian\\miniconda3\\envs\\pymuse\\lib\\site-packages\\astropy\\table\\column.py:1020: RuntimeWarning: invalid value encountered in greater\n",
      "  result = getattr(super(), op)(other)\n"
     ]
    }
   ],
   "source": [
    "name = 'NGC1672'\n",
    "\n",
    "from pnlf.auxiliary import filter_table\n",
    "from pnlf.io import ReadLineMaps\n",
    "\n",
    "p = {x:sample_table.loc[name][x] for x in sample_table.columns}\n",
    "\n",
    "# DAP linemaps (Halpha and OIII)\n",
    "filename = data_ext / 'MUSE_DR2' / 'MUSEDAP' / f'{name}_MAPS.fits'\n",
    "with fits.open(filename) as hdul:\n",
    "    Halpha = NDData(data=hdul['HA6562_FLUX'].data,\n",
    "                    uncertainty=StdDevUncertainty(hdul['HA6562_FLUX_ERR'].data),\n",
    "                    mask=np.isnan(hdul['HA6562_FLUX'].data),\n",
    "                    meta=hdul['HA6562_FLUX'].header,\n",
    "                    wcs=WCS(hdul['HA6562_FLUX'].header))\n",
    "    OIII = NDData(data=hdul['OIII5006_FLUX'].data,\n",
    "                    uncertainty=StdDevUncertainty(hdul['OIII5006_FLUX_ERR'].data),\n",
    "                    mask=np.isnan(hdul['OIII5006_FLUX'].data),\n",
    "                    meta=hdul['OIII5006_FLUX'].header,\n",
    "                    wcs=WCS(hdul['OIII5006_FLUX'].header)) \n",
    "\n",
    "    \n",
    "# nebulae catalogue from Francesco (mostly HII-regions)\n",
    "filename = basedir / 'data' / 'interim' / f'Nebulae_Catalogue_with_FUV_DR2.fits'\n",
    "with fits.open(filename) as hdul:\n",
    "    nebulae = Table(hdul[1].data)\n",
    "nebulae['SkyCoord'] = SkyCoord(nebulae['cen_ra']*u.deg,nebulae['cen_dec']*u.deg)\n",
    "nebulae.rename_columns(['cen_x','cen_y'],['x','y'])\n",
    "nebulae.add_index('region_ID')\n",
    "\n",
    "with np.errstate(divide='ignore'):\n",
    "    nebulae['[SIII]/[SII]'] = np.nan\n",
    "    SII = nebulae['SII6716_FLUX_CORR']+nebulae['SII6730_FLUX_CORR']\n",
    "    SIII = nebulae['SIII6312_FLUX_CORR']+nebulae['SIII9068_FLUX_CORR']\n",
    "    nebulae[SII>0]['[SIII]/[SII]'] = SIII[SII>0]/SII[SII>0]\n",
    "    nebulae['HA/FUV'] = nebulae['HA6562_FLUX_CORR']/nebulae['FUV_FLUX_CORR']\n",
    "    nebulae['HA/FUV_err'] = nebulae['HA/FUV']*np.sqrt((nebulae['HA6562_FLUX_CORR_ERR']/nebulae['HA6562_FLUX_CORR'])**2+(nebulae['FUV_FLUX_CORR_ERR']/nebulae['FUV_FLUX_CORR'])**2)\n",
    "\n",
    "HII_regions = filter_table(nebulae,gal_name=name,BPT_NII=0,BPT_SII=0,BPT_OI=0)\n",
    "nebulae = filter_table(nebulae,gal_name=name)\n",
    "\n",
    "filename = data_ext / 'MUSE_DR2' / 'Nebulae catalogue' /'spatial_masks'/f'{name}_HIIreg_mask.fits'\n",
    "with fits.open(filename) as hdul:\n",
    "    nebulae_mask = NDData(hdul[0].data-1,mask=Halpha.mask,meta=hdul[0].header,wcs=WCS(hdul[0].header))\n",
    "    nebulae_mask.data[nebulae_mask.data==-1] = np.nan\n",
    "\n",
    "# WFI image (larger FOV)\n",
    "filename = data_ext / 'WFI' / f'{name}_Rc_flux_nosky.fits'\n",
    "with fits.open(filename) as hdul:\n",
    "    WFI = NDData(data=hdul[0].data,\n",
    "                 meta=hdul[0].header,\n",
    "                 wcs=WCS(hdul[0].header))\n",
    "    \n",
    "print(f'{name}: {len(HII_regions)} HII-regions in final catalogue')"
   ]
  },
  {
   "cell_type": "markdown",
   "metadata": {},
   "source": [
    "## IZI\n",
    "\n",
    "### Standard version"
   ]
  },
  {
   "cell_type": "code",
   "execution_count": 4,
   "metadata": {},
   "outputs": [],
   "source": [
    "from izi.izi import izi"
   ]
  },
  {
   "cell_type": "code",
   "execution_count": 5,
   "metadata": {},
   "outputs": [
    {
     "name": "stdout",
     "output_type": "stream",
     "text": [
      "joint Z, q 8.695092028501083 7.1938775510204085\n",
      "mode Z (8.695092, + 0.081633, - 0.040816), q (7.234694, + 0.122449, - 0.081633)\n",
      "mean Z, (8.738605, + 0.038120, - 0.084329), q (7.271266, + 0.085877, - 0.118204)\n",
      "test\n",
      "INFO:matplotlib.texmanager:No LaTeX-compatible font found for the serif font family in rcParams. Using default.\n",
      "INFO:matplotlib.texmanager:No LaTeX-compatible font found for the sans-serif font family in rcParams. Using default.\n",
      "INFO:matplotlib.texmanager:No LaTeX-compatible font found for the monospace font family in rcParams. Using default.\n",
      "INFO:matplotlib.texmanager:No LaTeX-compatible font found for the serif font family in rcParams. Using default.\n",
      "INFO:matplotlib.texmanager:No LaTeX-compatible font found for the sans-serif font family in rcParams. Using default.\n",
      "INFO:matplotlib.texmanager:No LaTeX-compatible font found for the monospace font family in rcParams. Using default.\n",
      "WARNING:matplotlib.font_manager:findfont: Font family ['serif'] not found. Falling back to DejaVu Sans.\n"
     ]
    },
    {
     "data": {
      "image/png": "[encoded data removed]",
      "text/plain": [
       "<Figure size 720x288 with 3 Axes>"
      ]
     },
     "metadata": {
      "image/png": {
       "height": 200,
       "width": 604
      },
      "needs_background": "light"
     },
     "output_type": "display_data"
    }
   ],
   "source": [
    "flux=[3.44,2.286, 1, 0.553, 0.698, 2.83]\n",
    "error=[0.17, 0.07,0.05, 0.023, 0.027, 0.15]\n",
    "ID=['oii3726;oii3729','oiii4959;oiii5007', 'hbeta' , 'nii6548;nii6584', \\\n",
    "       'sii6717;sii6731', 'halpha']\n",
    "   \n",
    "out2=izi(flux, error, ID,\\\n",
    "    intergridfile='interpolgrid_50_50d13_kappa20',\n",
    "    epsilon=0.1, quiet=False, plot=True)"
   ]
  },
  {
   "cell_type": "code",
   "execution_count": null,
   "metadata": {},
   "outputs": [],
   "source": [
    "flux=[3.44,2.286, 1]\n",
    "error=[0.17, 0.07,0.05]\n",
    "id=['oii3726;oii3729','oiii4959;oiii5007', 'hbeta' ]\n",
    "   \n",
    "out2=izi(flux, error, id,\\\n",
    "    intergridfile='interpolgrid_50_50d13_kappa20',\n",
    "    epsilon=0.1, quiet=False, plot=True)"
   ]
  },
  {
   "cell_type": "markdown",
   "metadata": {},
   "source": [
    "### IZI MCMC"
   ]
  },
  {
   "cell_type": "code",
   "execution_count": null,
   "metadata": {},
   "outputs": [],
   "source": [
    "from izi.izi_MCMC import izi_MCMC"
   ]
  },
  {
   "cell_type": "code",
   "execution_count": null,
   "metadata": {},
   "outputs": [],
   "source": [
    "flux=[3.44,2.286, 1, 0.553, 0.698, 2.83]\n",
    "error=[0.17, 0.07,0.05, 0.023, 0.027, 0.15]\n",
    "id=['oii3726;oii3729','oiii4959;oiii5007', 'hbeta' , 'nii6548;nii6584', \\\n",
    "       'sii6717;sii6731', 'halpha']\n",
    "\n",
    "out2=izi_MCMC(flux, error, id,\\\n",
    "     intergridfile='interpolgrid_100_100d13_kappaINF', epsilon=0.1, quiet=False, \n",
    "     plot=True,plot_z_steps=False,plot_q_steps=False,\n",
    "     logqprior=None)"
   ]
  },
  {
   "cell_type": "markdown",
   "metadata": {},
   "source": [
    "### Use on nebulae catalogues"
   ]
  },
  {
   "cell_type": "code",
   "execution_count": null,
   "metadata": {},
   "outputs": [],
   "source": [
    "names = {\n",
    " 'HB4861':'hbeta',\n",
    " 'OIII5006':'oiii5007',\n",
    " 'HA6562':'halpha',\n",
    " 'NII6583':'nii6584',\n",
    " 'SII6716':'sii6717',\n",
    " 'SII6730':'sii6731',\n",
    " 'SIII9068':'siii9068',\n",
    " 'OI6300':'oi6300',\n",
    " 'NII5754':'nii5755',\n",
    " 'HEI5875':'hei5875',\n",
    " 'SIII6312':'siii6312',\n",
    " 'OII7319':'oii7318',\n",
    "}\n",
    "\n",
    "all_lines = ['HB4861','OIII5006','NII5754','OI6300','SIII6312',\n",
    "             'HA6562','NII6583','SII6716','SII6730','OII7319','SIII9068']\n",
    "small = ['HB4861','OIII5006','HA6562','NII6583','SII6716','SII6730','SIII9068']\n",
    "\n",
    "lines = small"
   ]
  },
  {
   "cell_type": "code",
   "execution_count": null,
   "metadata": {},
   "outputs": [],
   "source": [
    "ID    = [names[line] for line in lines]\n",
    "\n",
    "for num in range(5):\n",
    "    flux  = np.array(list(nebulae[[line+'_FLUX_CORR' for line in lines]][num]))\n",
    "    error = np.array(list(nebulae[[line+'_FLUX_CORR_ERR' for line in lines]][num]))\n",
    "\n",
    "    out=izi(flux,error, ID,plot=False,quiet=True)\n",
    "    print(f'NC: Z={nebulae[\"Z\"][num]:.2f} vs IZI: Z={out.sol[\"Z_joint\"]:.2f}')"
   ]
  },
  {
   "cell_type": "code",
   "execution_count": null,
   "metadata": {},
   "outputs": [],
   "source": [
    "ID = [names[line] for line in lines]\n",
    "\n",
    "for num in range(5):\n",
    "\n",
    "    flux  = np.array(list(nebulae[[line+'_FLUX' for line in lines]][num]))\n",
    "    error = np.array(list(nebulae[[line+'_FLUX_ERR' for line in lines]][num]))\n",
    "    \n",
    "    out_mcmc = izi_MCMC(flux,error,ID,plot=False,quiet=True)\n",
    "    print(f'NC: Z={nebulae[\"Z\"][num]:.2f} vs IZI: Z={out_mcmc.sol[\"Z\"]:.2f}')"
   ]
  }
 ],
 "metadata": {
  "kernelspec": {
   "display_name": "Python 3",
   "language": "python",
   "name": "python3"
  },
  "language_info": {
   "codemirror_mode": {
    "name": "ipython",
    "version": 3
   },
   "file_extension": ".py",
   "mimetype": "text/x-python",
   "name": "python",
   "nbconvert_exporter": "python",
   "pygments_lexer": "ipython3",
   "version": "3.7.7"
  },
  "toc": {
   "base_numbering": 1,
   "nav_menu": {},
   "number_sections": true,
   "sideBar": true,
   "skip_h1_title": false,
   "title_cell": "Table of Contents",
   "title_sidebar": "Contents",
   "toc_cell": false,
   "toc_position": {},
   "toc_section_display": true,
   "toc_window_display": false
  }
 },
 "nbformat": 4,
 "nbformat_minor": 4
}
